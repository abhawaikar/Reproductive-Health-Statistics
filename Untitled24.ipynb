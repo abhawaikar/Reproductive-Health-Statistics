{
  "nbformat": 4,
  "nbformat_minor": 0,
  "metadata": {
    "colab": {
      "provenance": [],
      "authorship_tag": "ABX9TyP5qPkcimfFhJgeBK23L0ev",
      "include_colab_link": true
    },
    "kernelspec": {
      "name": "python3",
      "display_name": "Python 3"
    },
    "language_info": {
      "name": "python"
    }
  },
  "cells": [
    {
      "cell_type": "markdown",
      "metadata": {
        "id": "view-in-github",
        "colab_type": "text"
      },
      "source": [
        "<a href=\"https://colab.research.google.com/github/abhawaikar/Reproductive-Health-Statistics/blob/main/Untitled24.ipynb\" target=\"_parent\"><img src=\"https://colab.research.google.com/assets/colab-badge.svg\" alt=\"Open In Colab\"/></a>"
      ]
    },
    {
      "cell_type": "code",
      "source": [
        "def load_datasets(zip_file_path):\n",
        "    train_dataset = None\n",
        "    test_dataset = None\n",
        "    with zipfile.ZipFile(zip_file_path, 'r') as zip_ref:\n",
        "        # Iterate over all files in the zip archive\n",
        "        for file_name in zip_ref.namelist():\n",
        "            if 'train' in file_name and file_name.endswith('.csv'):\n",
        "                with zip_ref.open(file_name) as file:\n",
        "                    train_dataset = pd.read_csv(file, encoding='latin-1')\n",
        "            elif 'test' in file_name and file_name.endswith('.csv'):\n",
        "                with zip_ref.open(file_name) as file:\n",
        "                    test_dataset = pd.read_csv(file, encoding='latin-1')\n",
        "    if train_dataset is None or test_dataset is None:\n",
        "        raise ValueError(\"Both training and testing datasets are required.\")\n",
        "    # Rename columns if needed\n",
        "    train_dataset.columns = ['sentiment', 'id', 'date', 'query', 'user', 'text']\n",
        "    test_dataset.columns = ['sentiment', 'id', 'date', 'query', 'user', 'text']\n",
        "    return train_dataset, test_dataset\n",
        "\n",
        "# Adjusted function to use the correct column names for feature extraction\n",
        "def train_model(train_dataset):\n",
        "    X = train_dataset['text']\n",
        "    y = train_dataset['sentiment']\n",
        "\n",
        "    # Split the data into training and testing sets\n",
        "    X_train, X_test, y_train, y_test = train_test_split(X, y, test_size=0.2, random_state=42)\n",
        "\n",
        "    # Extract features using CountVectorizer\n",
        "    X_train_vec, X_test_vec, vectorizer = extract_features(X_train, X_test)\n",
        "\n",
        "    # Train a Naive Bayes classifier\n",
        "    nb_classifier = MultinomialNB()\n",
        "    nb_classifier.fit(X_train_vec, y_train)\n",
        "\n",
        "    # Evaluate the model\n",
        "    y_pred = nb_classifier.predict(X_test_vec)\n",
        "    accuracy = accuracy_score(y_test, y_pred)\n",
        "    print(\"Model accuracy:\", accuracy)\n",
        "\n",
        "    return nb_classifier, vectorizer\n",
        "\n",
        "# Example usage:\n",
        "zip_file_path = '/content/archive (3).zip'\n",
        "\n",
        "train_dataset, test_dataset = load_datasets(zip_file_path)\n",
        "print(\"Training dataset:\")\n",
        "explore_data(train_dataset)\n",
        "print(\"Testing dataset:\")\n",
        "explore_data(test_dataset)\n",
        "\n",
        "model, vectorizer = train_model(train_dataset)\n",
        "\n",
        "# Step 6: Make predictions on the test dataset\n",
        "new_text_data = test_dataset['text']  # Assuming 'text' column contains the text data\n",
        "predictions = make_predictions(model, vectorizer, new_text_data)\n",
        "print(\"Predictions on test dataset:\", predictions)\n",
        "\n",
        "# Step 7: Save the Trained Model\n",
        "model_file = 'sentiment_model.pkl'\n",
        "vectorizer_file = 'sentiment_vectorizer.pkl'\n",
        "save_model(model, vectorizer, model_file, vectorizer_file)\n"
      ],
      "metadata": {
        "colab": {
          "base_uri": "https://localhost:8080/"
        },
        "id": "IE-PKzs_qjY6",
        "outputId": "22e27b11-e27b-4c17-e2bc-93403b30ef3e"
      },
      "execution_count": 3,
      "outputs": [
        {
          "output_type": "stream",
          "name": "stdout",
          "text": [
            "Training dataset:\n",
            "Dataset shape: (1048572, 6)\n",
            "Columns: Index(['sentiment', 'id', 'date', 'query', 'user', 'text'], dtype='object')\n",
            "Sample data:\n",
            "   sentiment          id                          date     query  \\\n",
            "0          0  1467810672  Mon Apr 06 22:19:49 PDT 2009  NO_QUERY   \n",
            "1          0  1467810917  Mon Apr 06 22:19:53 PDT 2009  NO_QUERY   \n",
            "2          0  1467811184  Mon Apr 06 22:19:57 PDT 2009  NO_QUERY   \n",
            "3          0  1467811193  Mon Apr 06 22:19:57 PDT 2009  NO_QUERY   \n",
            "4          0  1467811372  Mon Apr 06 22:20:00 PDT 2009  NO_QUERY   \n",
            "\n",
            "            user                                               text  \n",
            "0  scotthamilton  is upset that he can't update his Facebook by ...  \n",
            "1       mattycus  @Kenichan I dived many times for the ball. Man...  \n",
            "2        ElleCTF    my whole body feels itchy and like its on fire   \n",
            "3         Karoli  @nationwideclass no, it's not behaving at all....  \n",
            "4       joy_wolf                      @Kwesidei not the whole crew   \n",
            "Testing dataset:\n",
            "Dataset shape: (515, 6)\n",
            "Columns: Index(['sentiment', 'id', 'date', 'query', 'user', 'text'], dtype='object')\n",
            "Sample data:\n",
            "   sentiment  id                          date    query          user  \\\n",
            "0          4   4  Mon May 11 03:18:03 UTC 2009  kindle2        vcu451   \n",
            "1          4   5  Mon May 11 03:18:54 UTC 2009  kindle2        chadfu   \n",
            "2          4   6  Mon May 11 03:19:04 UTC 2009  kindle2         SIX15   \n",
            "3          4   7  Mon May 11 03:21:41 UTC 2009  kindle2      yamarama   \n",
            "4          4   8  Mon May 11 03:22:00 UTC 2009  kindle2  GeorgeVHulme   \n",
            "\n",
            "                                                text  \n",
            "0  Reading my kindle2...  Love it... Lee childs i...  \n",
            "1  Ok, first assesment of the #kindle2 ...it fuck...  \n",
            "2  @kenburbary You'll love your Kindle2. I've had...  \n",
            "3  @mikefish  Fair enough. But i have the Kindle2...  \n",
            "4  @richardebaker no. it is too big. I'm quite ha...  \n",
            "Model accuracy: 0.8341368047111556\n",
            "Predictions on test dataset: [4 0 0 0 0 0 0 4 0 4 4 4 0 0 0 0 4 0 0 0 0 0 0 0 4 0 4 4 4 0 4 0 0 0 0 0 0\n",
            " 0 0 0 0 0 0 0 0 0 0 4 0 0 4 4 0 0 4 4 4 0 0 0 0 0 0 0 0 4 4 0 0 0 4 0 0 4\n",
            " 0 4 0 0 0 4 0 4 4 4 0 0 0 0 0 0 0 0 0 0 0 0 0 0 0 4 4 4 0 0 0 4 4 4 4 4 0\n",
            " 4 0 0 0 0 0 0 0 4 4 4 0 0 0 0 0 0 0 0 0 4 0 0 0 0 0 0 0 0 0 0 0 0 0 0 0 0\n",
            " 0 0 0 0 4 0 4 4 0 4 4 0 0 0 0 0 0 4 0 0 0 0 0 0 0 4 0 0 0 4 0 0 0 0 4 0 0\n",
            " 4 0 0 0 0 0 0 0 0 4 0 4 4 0 4 4 4 0 4 0 4 4 0 0 0 0 0 0 0 0 0 0 0 0 0 0 0\n",
            " 0 0 0 4 0 0 0 0 0 4 4 0 0 4 0 0 4 4 0 4 4 4 4 4 4 4 4 0 0 0 4 0 0 0 0 0 0\n",
            " 0 0 0 0 4 0 4 0 4 0 4 0 0 4 4 0 0 4 4 4 0 0 0 0 0 0 0 4 4 4 4 0 0 0 4 0 0\n",
            " 0 0 0 4 0 0 0 0 0 4 0 0 0 0 4 0 4 0 4 0 4 4 4 0 0 4 4 4 0 0 0 0 4 0 4 0 0\n",
            " 0 4 0 0 0 0 0 0 0 0 4 4 4 4 4 4 0 4 4 0 0 0 4 4 0 4 0 0 4 4 0 0 4 4 0 4 4\n",
            " 0 0 0 0 4 0 0 0 0 0 0 0 0 0 0 4 0 0 0 0 0 0 0 0 0 4 0 0 4 0 4 0 0 0 0 0 0\n",
            " 0 0 0 0 0 4 4 4 4 0 0 4 0 0 0 0 4 0 0 0 0 0 4 0 0 0 4 4 0 0 0 0 0 4 0 0 4\n",
            " 0 4 4 4 4 0 4 4 0 0 0 0 0 0 0 0 4 0 0 0 0 4 4 0 0 0 4 0 0 0 0 4 0 4 0 0 0\n",
            " 0 0 0 0 4 4 4 4 0 4 0 4 0 0 0 0 0 0 0 0 0 0 0 0 0 4 0 4 4 4 0 0 0 0]\n",
            "Model and vectorizer saved successfully.\n"
          ]
        }
      ]
    },
    {
      "cell_type": "code",
      "source": [
        "import zipfile\n",
        "import pandas as pd\n",
        "\n",
        "# Extract the zip file\n",
        "with zipfile.ZipFile('/content/archive (3).zip', 'r') as zip_ref:\n",
        "    zip_ref.extractall('extracted_data')\n",
        "\n",
        "# List the extracted files\n",
        "extracted_files = zip_ref.namelist()\n",
        "\n",
        "# Iterate over the extracted files and inspect their contents\n",
        "for file in extracted_files:\n",
        "    # Load the CSV file into a DataFrame\n",
        "    try:\n",
        "        df = pd.read_csv('extracted_data/' + file, encoding='latin1')\n",
        "\n",
        "        # Display information about the DataFrame (e.g., first few rows, number of rows and columns)\n",
        "        print(f\"File: {file}\")\n",
        "        print(df.head())\n",
        "        print(f\"Number of rows: {len(df)}\")\n",
        "        print(f\"Number of columns: {len(df.columns)}\")\n",
        "        print()\n",
        "    except Exception as e:\n",
        "        print(f\"Error reading {file}: {e}\")\n"
      ],
      "metadata": {
        "colab": {
          "base_uri": "https://localhost:8080/"
        },
        "id": "4sXUWgpcvvYQ",
        "outputId": "17a784a6-5c2e-47ee-a82b-a7350105a69c"
      },
      "execution_count": 10,
      "outputs": [
        {
          "output_type": "stream",
          "name": "stdout",
          "text": [
            "File: test.csv\n",
            "       textID                                               text sentiment  \\\n",
            "0  f87dea47db  Last session of the day  http://twitpic.com/67ezh   neutral   \n",
            "1  96d74cb729   Shanghai is also really exciting (precisely -...  positive   \n",
            "2  eee518ae67  Recession hit Veronique Branquinho, she has to...  negative   \n",
            "3  01082688c6                                        happy bday!  positive   \n",
            "4  33987a8ee5             http://twitpic.com/4w75p - I like it!!  positive   \n",
            "\n",
            "  Time of Tweet Age of User      Country  Population -2020  Land Area (Km²)  \\\n",
            "0       morning        0-20  Afghanistan        38928346.0         652860.0   \n",
            "1          noon       21-30      Albania         2877797.0          27400.0   \n",
            "2         night       31-45      Algeria        43851044.0        2381740.0   \n",
            "3       morning       46-60      Andorra           77265.0            470.0   \n",
            "4          noon       60-70       Angola        32866272.0        1246700.0   \n",
            "\n",
            "   Density (P/Km²)  \n",
            "0             60.0  \n",
            "1            105.0  \n",
            "2             18.0  \n",
            "3            164.0  \n",
            "4             26.0  \n",
            "Number of rows: 4815\n",
            "Number of columns: 9\n",
            "\n",
            "File: testdata.manual.2009.06.14.csv\n",
            "   4  3  Mon May 11 03:17:40 UTC 2009  kindle2        tpryan  \\\n",
            "0  4  4  Mon May 11 03:18:03 UTC 2009  kindle2        vcu451   \n",
            "1  4  5  Mon May 11 03:18:54 UTC 2009  kindle2        chadfu   \n",
            "2  4  6  Mon May 11 03:19:04 UTC 2009  kindle2         SIX15   \n",
            "3  4  7  Mon May 11 03:21:41 UTC 2009  kindle2      yamarama   \n",
            "4  4  8  Mon May 11 03:22:00 UTC 2009  kindle2  GeorgeVHulme   \n",
            "\n",
            "  @stellargirl I loooooooovvvvvveee my Kindle2. Not that the DX is cool, but the 2 is fantastic in its own right.  \n",
            "0  Reading my kindle2...  Love it... Lee childs i...                                                               \n",
            "1  Ok, first assesment of the #kindle2 ...it fuck...                                                               \n",
            "2  @kenburbary You'll love your Kindle2. I've had...                                                               \n",
            "3  @mikefish  Fair enough. But i have the Kindle2...                                                               \n",
            "4  @richardebaker no. it is too big. I'm quite ha...                                                               \n",
            "Number of rows: 515\n",
            "Number of columns: 6\n",
            "\n",
            "File: train.csv\n",
            "       textID                                               text  \\\n",
            "0  cb774db0d1                I`d have responded, if I were going   \n",
            "1  549e992a42      Sooo SAD I will miss you here in San Diego!!!   \n",
            "2  088c60f138                          my boss is bullying me...   \n",
            "3  9642c003ef                     what interview! leave me alone   \n",
            "4  358bd9e861   Sons of ****, why couldn`t they put them on t...   \n",
            "\n",
            "                         selected_text sentiment Time of Tweet Age of User  \\\n",
            "0  I`d have responded, if I were going   neutral       morning        0-20   \n",
            "1                             Sooo SAD  negative          noon       21-30   \n",
            "2                          bullying me  negative         night       31-45   \n",
            "3                       leave me alone  negative       morning       46-60   \n",
            "4                        Sons of ****,  negative          noon       60-70   \n",
            "\n",
            "       Country  Population -2020  Land Area (Km²)  Density (P/Km²)  \n",
            "0  Afghanistan          38928346         652860.0               60  \n",
            "1      Albania           2877797          27400.0              105  \n",
            "2      Algeria          43851044        2381740.0               18  \n",
            "3      Andorra             77265            470.0              164  \n",
            "4       Angola          32866272        1246700.0               26  \n",
            "Number of rows: 27481\n",
            "Number of columns: 10\n",
            "\n",
            "File: training.1600000.processed.noemoticon.csv\n",
            "   polarity of tweet   id of the tweet             date of the tweet  \\\n",
            "0                   0       1467810672  Mon Apr 06 22:19:49 PDT 2009   \n",
            "1                   0       1467810917  Mon Apr 06 22:19:53 PDT 2009   \n",
            "2                   0       1467811184  Mon Apr 06 22:19:57 PDT 2009   \n",
            "3                   0       1467811193  Mon Apr 06 22:19:57 PDT 2009   \n",
            "4                   0       1467811372  Mon Apr 06 22:20:00 PDT 2009   \n",
            "\n",
            "      query           user                                 text of the tweet   \n",
            "0  NO_QUERY  scotthamilton  is upset that he can't update his Facebook by ...  \n",
            "1  NO_QUERY       mattycus  @Kenichan I dived many times for the ball. Man...  \n",
            "2  NO_QUERY        ElleCTF    my whole body feels itchy and like its on fire   \n",
            "3  NO_QUERY         Karoli  @nationwideclass no, it's not behaving at all....  \n",
            "4  NO_QUERY       joy_wolf                      @Kwesidei not the whole crew   \n",
            "Number of rows: 1048572\n",
            "Number of columns: 6\n",
            "\n"
          ]
        }
      ]
    },
    {
      "cell_type": "code",
      "source": [
        "import pandas as pd\n",
        "\n",
        "# Load the train.csv and test.csv files into pandas DataFrames\n",
        "train_df = pd.read_csv('/content/extracted_data/train.csv', encoding='latin1')\n",
        "test_df = pd.read_csv('/content/extracted_data/test.csv', encoding='latin1')\n",
        "\n",
        "# Display the first few rows of each DataFrame\n",
        "print(\"Training Data:\")\n",
        "print(train_df.head())\n",
        "print(\"\\nTesting Data:\")\n",
        "print(test_df.head())\n",
        "\n"
      ],
      "metadata": {
        "colab": {
          "base_uri": "https://localhost:8080/"
        },
        "id": "M55H2l0UwRjp",
        "outputId": "ba408686-70be-43d3-cd08-ef90e76e5460"
      },
      "execution_count": 14,
      "outputs": [
        {
          "output_type": "stream",
          "name": "stdout",
          "text": [
            "Training Data:\n",
            "       textID                                               text  \\\n",
            "0  cb774db0d1                I`d have responded, if I were going   \n",
            "1  549e992a42      Sooo SAD I will miss you here in San Diego!!!   \n",
            "2  088c60f138                          my boss is bullying me...   \n",
            "3  9642c003ef                     what interview! leave me alone   \n",
            "4  358bd9e861   Sons of ****, why couldn`t they put them on t...   \n",
            "\n",
            "                         selected_text sentiment Time of Tweet Age of User  \\\n",
            "0  I`d have responded, if I were going   neutral       morning        0-20   \n",
            "1                             Sooo SAD  negative          noon       21-30   \n",
            "2                          bullying me  negative         night       31-45   \n",
            "3                       leave me alone  negative       morning       46-60   \n",
            "4                        Sons of ****,  negative          noon       60-70   \n",
            "\n",
            "       Country  Population -2020  Land Area (Km²)  Density (P/Km²)  \n",
            "0  Afghanistan          38928346         652860.0               60  \n",
            "1      Albania           2877797          27400.0              105  \n",
            "2      Algeria          43851044        2381740.0               18  \n",
            "3      Andorra             77265            470.0              164  \n",
            "4       Angola          32866272        1246700.0               26  \n",
            "\n",
            "Testing Data:\n",
            "       textID                                               text sentiment  \\\n",
            "0  f87dea47db  Last session of the day  http://twitpic.com/67ezh   neutral   \n",
            "1  96d74cb729   Shanghai is also really exciting (precisely -...  positive   \n",
            "2  eee518ae67  Recession hit Veronique Branquinho, she has to...  negative   \n",
            "3  01082688c6                                        happy bday!  positive   \n",
            "4  33987a8ee5             http://twitpic.com/4w75p - I like it!!  positive   \n",
            "\n",
            "  Time of Tweet Age of User      Country  Population -2020  Land Area (Km²)  \\\n",
            "0       morning        0-20  Afghanistan        38928346.0         652860.0   \n",
            "1          noon       21-30      Albania         2877797.0          27400.0   \n",
            "2         night       31-45      Algeria        43851044.0        2381740.0   \n",
            "3       morning       46-60      Andorra           77265.0            470.0   \n",
            "4          noon       60-70       Angola        32866272.0        1246700.0   \n",
            "\n",
            "   Density (P/Km²)  \n",
            "0             60.0  \n",
            "1            105.0  \n",
            "2             18.0  \n",
            "3            164.0  \n",
            "4             26.0  \n"
          ]
        }
      ]
    },
    {
      "cell_type": "code",
      "source": [
        "import re\n",
        "\n",
        "# Function to preprocess text\n",
        "def preprocess_text(text):\n",
        "    if isinstance(text, str):\n",
        "        # Remove special characters and digits\n",
        "        text = re.sub(r'[^a-zA-Z\\s]', '', text)\n",
        "        # Convert text to lowercase\n",
        "        text = text.lower()\n",
        "    return text\n",
        "\n",
        "# Apply preprocessing to the 'text' column in both DataFrames\n",
        "train_df['text'] = train_df['text'].apply(preprocess_text)\n",
        "test_df['text'] = test_df['text'].apply(preprocess_text)\n",
        "\n",
        "# Display the first few rows of the preprocessed DataFrames\n",
        "print(\"Preprocessed Training Data:\")\n",
        "print(train_df.head())\n",
        "print(\"\\nPreprocessed Testing Data:\")\n",
        "print(test_df.head())\n"
      ],
      "metadata": {
        "colab": {
          "base_uri": "https://localhost:8080/"
        },
        "id": "7vFxy_96xeSy",
        "outputId": "7e8752a8-3e67-4bfe-c0b4-e665e61beb28"
      },
      "execution_count": 16,
      "outputs": [
        {
          "output_type": "stream",
          "name": "stdout",
          "text": [
            "Preprocessed Training Data:\n",
            "       textID                                               text  \\\n",
            "0  cb774db0d1                  id have responded if i were going   \n",
            "1  549e992a42         sooo sad i will miss you here in san diego   \n",
            "2  088c60f138                             my boss is bullying me   \n",
            "3  9642c003ef                      what interview leave me alone   \n",
            "4  358bd9e861   sons of  why couldnt they put them on the rel...   \n",
            "\n",
            "                         selected_text sentiment Time of Tweet Age of User  \\\n",
            "0  I`d have responded, if I were going   neutral       morning        0-20   \n",
            "1                             Sooo SAD  negative          noon       21-30   \n",
            "2                          bullying me  negative         night       31-45   \n",
            "3                       leave me alone  negative       morning       46-60   \n",
            "4                        Sons of ****,  negative          noon       60-70   \n",
            "\n",
            "       Country  Population -2020  Land Area (Km²)  Density (P/Km²)  \n",
            "0  Afghanistan          38928346         652860.0               60  \n",
            "1      Albania           2877797          27400.0              105  \n",
            "2      Algeria          43851044        2381740.0               18  \n",
            "3      Andorra             77265            470.0              164  \n",
            "4       Angola          32866272        1246700.0               26  \n",
            "\n",
            "Preprocessed Testing Data:\n",
            "       textID                                               text sentiment  \\\n",
            "0  f87dea47db         last session of the day  httptwitpiccomezh   neutral   \n",
            "1  96d74cb729   shanghai is also really exciting precisely  s...  positive   \n",
            "2  eee518ae67  recession hit veronique branquinho she has to ...  negative   \n",
            "3  01082688c6                                         happy bday  positive   \n",
            "4  33987a8ee5                        httptwitpiccomwp  i like it  positive   \n",
            "\n",
            "  Time of Tweet Age of User      Country  Population -2020  Land Area (Km²)  \\\n",
            "0       morning        0-20  Afghanistan        38928346.0         652860.0   \n",
            "1          noon       21-30      Albania         2877797.0          27400.0   \n",
            "2         night       31-45      Algeria        43851044.0        2381740.0   \n",
            "3       morning       46-60      Andorra           77265.0            470.0   \n",
            "4          noon       60-70       Angola        32866272.0        1246700.0   \n",
            "\n",
            "   Density (P/Km²)  \n",
            "0             60.0  \n",
            "1            105.0  \n",
            "2             18.0  \n",
            "3            164.0  \n",
            "4             26.0  \n"
          ]
        }
      ]
    },
    {
      "cell_type": "code",
      "source": [
        "from sklearn.feature_extraction.text import TfidfVectorizer\n",
        "\n",
        "# Replace missing values with empty strings\n",
        "train_df['text'].fillna('', inplace=True)\n",
        "test_df['text'].fillna('', inplace=True)\n",
        "\n",
        "# Initialize the TfidfVectorizer\n",
        "tfidf_vectorizer = TfidfVectorizer()\n",
        "\n",
        "# Fit and transform the training data\n",
        "train_tfidf = tfidf_vectorizer.fit_transform(train_df['text'])\n",
        "\n",
        "# Transform the testing data\n",
        "test_tfidf = tfidf_vectorizer.transform(test_df['text'])\n",
        "\n",
        "# Display the shape of the transformed data\n",
        "print(\"Shape of Training TF-IDF Vectors:\", train_tfidf.shape)\n",
        "print(\"Shape of Testing TF-IDF Vectors:\", test_tfidf.shape)\n"
      ],
      "metadata": {
        "colab": {
          "base_uri": "https://localhost:8080/"
        },
        "id": "rshL04N2x9fF",
        "outputId": "7f0be7a1-01b6-4fc6-d714-5885a214d8c0"
      },
      "execution_count": 18,
      "outputs": [
        {
          "output_type": "stream",
          "name": "stdout",
          "text": [
            "Shape of Training TF-IDF Vectors: (27481, 27888)\n",
            "Shape of Testing TF-IDF Vectors: (4815, 27888)\n"
          ]
        }
      ]
    },
    {
      "cell_type": "code",
      "source": [
        "# Impute NaN values with 'unknown'\n",
        "test_df['sentiment'].fillna('unknown', inplace=True)\n",
        "\n",
        "# Check the unique values again\n",
        "print(test_df['sentiment'].unique())\n"
      ],
      "metadata": {
        "colab": {
          "base_uri": "https://localhost:8080/"
        },
        "id": "w_WQpabyyrX-",
        "outputId": "46a9d7ef-7d68-4645-8cf0-99523115bd23"
      },
      "execution_count": 22,
      "outputs": [
        {
          "output_type": "stream",
          "name": "stdout",
          "text": [
            "['neutral' 'positive' 'negative']\n"
          ]
        }
      ]
    },
    {
      "cell_type": "code",
      "source": [
        "import pandas as pd\n",
        "from sklearn.feature_extraction.text import TfidfVectorizer\n",
        "from sklearn.model_selection import train_test_split\n",
        "from sklearn.svm import SVC\n",
        "from sklearn.metrics import accuracy_score\n",
        "\n",
        "# Load the data\n",
        "train_df = pd.read_csv('/content/extracted_data/train.csv', encoding='ISO-8859-1')\n",
        "test_df = pd.read_csv('/content/extracted_data/test.csv', encoding='ISO-8859-1')\n",
        "\n",
        "\n",
        "# Preprocess the text data\n",
        "train_df['text'] = train_df['text'].astype(str).apply(preprocess_text)\n",
        "test_df['text'] = test_df['text'].astype(str).apply(preprocess_text)\n",
        "\n",
        "# Remove rows with NaN values in the 'sentiment' column\n",
        "test_df = test_df.dropna(subset=['sentiment'])\n",
        "\n",
        "# Split the data into features (X) and labels (y)\n",
        "X_train, y_train = train_df['text'], train_df['sentiment']\n",
        "X_test, y_test = test_df['text'], test_df['sentiment']\n",
        "\n",
        "# Initialize a TF-IDF vectorizer\n",
        "tfidf_vectorizer = TfidfVectorizer(max_features=5000)\n",
        "\n",
        "# Fit and transform the training data\n",
        "X_train_tfidf = tfidf_vectorizer.fit_transform(X_train)\n",
        "\n",
        "# Transform the testing data\n",
        "X_test_tfidf = tfidf_vectorizer.transform(X_test)\n",
        "\n",
        "# Initialize an SVM classifier\n",
        "svm_classifier = SVC(kernel='linear')\n",
        "\n",
        "# Train the SVM classifier\n",
        "svm_classifier.fit(X_train_tfidf, y_train)\n",
        "\n",
        "# Make predictions on the testing data\n",
        "predictions = svm_classifier.predict(X_test_tfidf)\n",
        "\n",
        "# Calculate accuracy\n",
        "accuracy = accuracy_score(y_test, predictions)\n",
        "print(\"Model accuracy:\", accuracy)\n"
      ],
      "metadata": {
        "colab": {
          "base_uri": "https://localhost:8080/"
        },
        "id": "FO_D_SBbyule",
        "outputId": "c3cf65ae-6fb1-4cdf-b67f-02c878da1ba5"
      },
      "execution_count": 25,
      "outputs": [
        {
          "output_type": "stream",
          "name": "stdout",
          "text": [
            "Model accuracy: 0.7102433503112621\n"
          ]
        }
      ]
    },
    {
      "cell_type": "code",
      "source": [
        "# 1. Save the DataFrame to an Excel file\n",
        "train_df.to_excel('train_data.xlsx', index=False)\n",
        "test_df.to_excel('test_data.xlsx', index=False)\n",
        "\n",
        "# 2. Visualize the data\n",
        "import matplotlib.pyplot as plt\n",
        "\n",
        "# Example visualization\n",
        "plt.figure(figsize=(10, 6))\n",
        "train_df['sentiment'].value_counts().plot(kind='bar')\n",
        "plt.title('Distribution of Sentiments in Training Data')\n",
        "plt.xlabel('Sentiment')\n",
        "plt.ylabel('Count')\n",
        "plt.show()\n"
      ],
      "metadata": {
        "colab": {
          "base_uri": "https://localhost:8080/",
          "height": 523
        },
        "id": "nW3GOwA20Xr4",
        "outputId": "35de3de1-f75f-4090-d829-03a78fd93e9c"
      },
      "execution_count": 27,
      "outputs": [
        {
          "output_type": "display_data",
          "data": {
            "text/plain": [
              "<Figure size 1000x600 with 1 Axes>"
            ],
            "image/png": "[encoded data removed]"
          },
          "metadata": {}
        }
      ]
    }
  ]
}